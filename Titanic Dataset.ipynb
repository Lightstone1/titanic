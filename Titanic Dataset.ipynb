{
 "cells": [
  {
   "cell_type": "code",
   "execution_count": 1,
   "id": "71f6dc32",
   "metadata": {},
   "outputs": [],
   "source": [
    "import pandas as pd"
   ]
  },
  {
   "cell_type": "code",
   "execution_count": 3,
   "id": "029d7ca4",
   "metadata": {},
   "outputs": [],
   "source": [
    "### Task One : Load the dataset into a Pandas DataFrame and display the first 5 rows.\n",
    "\n",
    "tt = pd.read_csv('C:/Users/User pc/Downloads/archive/Titanic.csv')\n"
   ]
  },
  {
   "cell_type": "code",
   "execution_count": 5,
   "id": "e860da70",
   "metadata": {},
   "outputs": [
    {
     "name": "stdout",
     "output_type": "stream",
     "text": [
      "   PassengerId  Survived  Pclass  \\\n",
      "0            1         0       3   \n",
      "1            2         1       1   \n",
      "2            3         1       3   \n",
      "3            4         1       1   \n",
      "4            5         0       3   \n",
      "\n",
      "                                                Name     Sex   Age  SibSp  \\\n",
      "0                            Braund, Mr. Owen Harris    male  22.0      1   \n",
      "1  Cumings, Mrs. John Bradley (Florence Briggs Th...  female  38.0      1   \n",
      "2                             Heikkinen, Miss. Laina  female  26.0      0   \n",
      "3       Futrelle, Mrs. Jacques Heath (Lily May Peel)  female  35.0      1   \n",
      "4                           Allen, Mr. William Henry    male  35.0      0   \n",
      "\n",
      "   Parch            Ticket     Fare Cabin Embarked  \n",
      "0      0         A/5 21171   7.2500   NaN        S  \n",
      "1      0          PC 17599  71.2833   C85        C  \n",
      "2      0  STON/O2. 3101282   7.9250   NaN        S  \n",
      "3      0            113803  53.1000  C123        S  \n",
      "4      0            373450   8.0500   NaN        S  \n"
     ]
    }
   ],
   "source": [
    "tt\n",
    "\n",
    "print(tt.head(5))"
   ]
  },
  {
   "cell_type": "code",
   "execution_count": 13,
   "id": "ce3bd365",
   "metadata": {},
   "outputs": [
    {
     "name": "stdout",
     "output_type": "stream",
     "text": [
      "Basic Statistics for Age and Fare:\n",
      "              Age       Fare\n",
      "mean    29.699118  32.204208\n",
      "median  28.000000  14.454200\n",
      "std     14.526497  49.693429\n"
     ]
    }
   ],
   "source": [
    "\n",
    "\n",
    "### Task Two : Calculate and print the basic statistics (mean, median, standard deviation) for numerical columns such\n",
    "## as age and fare.\n",
    "\n",
    "statistics = tt[['Age', 'Fare']].agg(['mean', 'median', 'std'])\n",
    "\n",
    "# Print the statistics\n",
    "print(\"Basic Statistics for Age and Fare:\")\n",
    "print(statistics)\n"
   ]
  },
  {
   "cell_type": "code",
   "execution_count": 15,
   "id": "96777977",
   "metadata": {},
   "outputs": [
    {
     "name": "stdout",
     "output_type": "stream",
     "text": [
      "Number of passengers who survived: 342\n",
      "Percentage of passengers who survived: 38.38383838383838\n"
     ]
    }
   ],
   "source": [
    "\n",
    "##Task Three (a)\n",
    "\n",
    "# Assuming you have already loaded the Titanic dataset into a DataFrame named 'tt'\n",
    "\n",
    "# Count the number of passengers who survived\n",
    "survived_count = tt['Survived'].sum()\n",
    "\n",
    "# Calculate the percentage of passengers who survived\n",
    "survived_percentage = (survived_count / len(tt)) * 100\n",
    "\n",
    "# Print the count and percentage\n",
    "print(\"Number of passengers who survived:\", survived_count)\n",
    "print(\"Percentage of passengers who survived:\", survived_percentage)\n"
   ]
  },
  {
   "cell_type": "code",
   "execution_count": 16,
   "id": "aac7b23f",
   "metadata": {},
   "outputs": [
    {
     "name": "stdout",
     "output_type": "stream",
     "text": [
      "Average age of passengers: 29.69911764705882\n"
     ]
    }
   ],
   "source": [
    "##Task Three (b)\n",
    "\n",
    "## What is the average age of passengers on board? Print the result.\n",
    "\n",
    "average_age = tt['Age'].mean()\n",
    "\n",
    "# Print the result\n",
    "print(\"Average age of passengers:\", average_age)\n"
   ]
  },
  {
   "cell_type": "code",
   "execution_count": 17,
   "id": "1a84b021",
   "metadata": {},
   "outputs": [
    {
     "name": "stdout",
     "output_type": "stream",
     "text": [
      "Passenger Count by Class:\n",
      "3    491\n",
      "1    216\n",
      "2    184\n",
      "Name: Pclass, dtype: int64\n"
     ]
    }
   ],
   "source": [
    "\n",
    "## Task Three (c)\n",
    "\n",
    "##How many passengers travelled in each passenger class (Pclass)? Print the count for each class\n",
    "\n",
    "passenger_class_count = tt['Pclass'].value_counts()\n",
    "\n",
    "# Print the count for each class\n",
    "print(\"Passenger Count by Class:\")\n",
    "print(passenger_class_count)"
   ]
  },
  {
   "cell_type": "code",
   "execution_count": 18,
   "id": "e48360ce",
   "metadata": {},
   "outputs": [
    {
     "name": "stdout",
     "output_type": "stream",
     "text": [
      "Survival Rate by Gender:\n",
      "Sex\n",
      "female    0.742038\n",
      "male      0.188908\n",
      "Name: Survived, dtype: float64\n"
     ]
    }
   ],
   "source": [
    "### Task Three (d)\n",
    "\n",
    "##What is the survival rate for male and female passengers separately? Print the survival rate for each\n",
    "##gender.\n",
    "\n",
    "\n",
    "survival_rate_gender = tt.groupby('Sex')['Survived'].mean()\n",
    "\n",
    "# Print the survival rate for each gender\n",
    "print(\"Survival Rate by Gender:\")\n",
    "print(survival_rate_gender)\n",
    "\n"
   ]
  },
  {
   "cell_type": "code",
   "execution_count": null,
   "id": "c2b478fa",
   "metadata": {},
   "outputs": [],
   "source": []
  }
 ],
 "metadata": {
  "kernelspec": {
   "display_name": "Python 3 (ipykernel)",
   "language": "python",
   "name": "python3"
  },
  "language_info": {
   "codemirror_mode": {
    "name": "ipython",
    "version": 3
   },
   "file_extension": ".py",
   "mimetype": "text/x-python",
   "name": "python",
   "nbconvert_exporter": "python",
   "pygments_lexer": "ipython3",
   "version": "3.9.13"
  }
 },
 "nbformat": 4,
 "nbformat_minor": 5
}
